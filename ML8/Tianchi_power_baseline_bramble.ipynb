{
 "cells": [
  {
   "cell_type": "code",
   "execution_count": 1,
   "metadata": {
    "collapsed": true
   },
   "outputs": [],
   "source": [
    "import pandas as pd\n",
    "import warnings\n",
    "warnings.filterwarnings(\"ignore\")"
   ]
  },
  {
   "cell_type": "code",
   "execution_count": 2,
   "metadata": {
    "collapsed": true
   },
   "outputs": [],
   "source": [
    "# 直接导入之前保存过的处理好的文件\n",
    "data_df = pd.read_csv(\"data_all_20170524.csv\")"
   ]
  },
  {
   "cell_type": "code",
   "execution_count": null,
   "metadata": {
    "collapsed": true
   },
   "outputs": [],
   "source": [
    "train_data = data_df[data_df.record_date<'2016-09-01']\\\n",
    "[['dow','doy','day','month','year','season','1_m_mean','2_m_mean','1_m_std','2_m_std']]\n",
    "\n",
    "test_data = data_df[data_df.record_date>='2016-09-01']\\\n",
    "[['dow','doy','day','month','year','season','1_m_mean','2_m_mean','1_m_std','2_m_std']]\n",
    "\n",
    "train_target = data_df[data_df.record_date<'2016-09-01'][['power_consumption']]\n",
    "\n",
    "# 添加测试集的target\n",
    "test_target = data_df[data_df.record_date>='2016-09-01'][['power_consumption']]\n",
    "test_target = test_target.reset_index(drop=True)\n"
   ]
  },
  {
   "cell_type": "code",
   "execution_count": null,
   "metadata": {
    "collapsed": true
   },
   "outputs": [],
   "source": [
    "# 运行valid_sets=lgb_test2出错\n",
    "# 提示：TypeError: Wrong type(ndarray) for label, should be list or numpy array\n",
    "# 看了label不能输入dataframe, 要变为array\n",
    "\n",
    "y_train = train_target.values.reshape(train_target.values.shape[0],)\n",
    "# print y_train.shape\n",
    "y_test = test_target.values.reshape(test_target.values.shape[0],)\n",
    "# print y_test.shape"
   ]
  },
  {
   "cell_type": "markdown",
   "metadata": {},
   "source": [
    "### lgb.Dataset可能导入有问题\n",
    "导致最后预测的结果全是平均值，我重新按照lightGBM的文档把对应的参数修改一下。\n",
    "\n",
    "这里直接通过pandas的dataframe制作数据，下面这句是官网给的例子。\n",
    "\n",
    "    train_data = lgb.Dataset(data, label=label, feature_name=['c1', 'c2', 'c3'], categorical_feature=['c3'])\n"
   ]
  },
  {
   "cell_type": "code",
   "execution_count": null,
   "metadata": {
    "collapsed": true
   },
   "outputs": [],
   "source": [
    "# 制作lgb.dataset\n",
    "weights = 10000000.0/train_target.values.reshape(train_target.values.shape[0],)\n",
    "\n",
    "lgb_train2 = lgb.Dataset(train_data, label=y_train, weight=weights, feature_name=['dow', 'doy', 'day', 'year', 'month', 'season', '1_m_mean', '2_m_mean', '1_m_std', '2_m_std'], categorical_feature=['dow', 'doy', 'day', 'year', 'month', 'season'])\n",
    "lgb_test2 = lgb.Dataset(test_data, label=y_test, feature_name=['dow', 'doy', 'day', 'year', 'month', 'season', '1_m_mean', '2_m_mean', '1_m_std', '2_m_std'], categorical_feature=['dow', 'doy', 'day', 'year', 'month', 'season'])"
   ]
  },
  {
   "cell_type": "code",
   "execution_count": null,
   "metadata": {
    "collapsed": true
   },
   "outputs": [],
   "source": [
    "# training!\n",
    "params = {\n",
    "    'task': 'train',\n",
    "    'boosting_type': 'gbdt',\n",
    "    'objective': 'regression',\n",
    "    'metric': {'l2', 'auc'},\n",
    "    'num_leaves': 128,\n",
    "    'learning_rate': 0.01,\n",
    "    'feature_fraction': 0.9,\n",
    "    'bagging_fraction': 0.8,\n",
    "    'bagging_freq': 5,\n",
    "    'verbose': 0\n",
    "}\n",
    "\n",
    "print('Start training...')\n",
    "# train\n",
    "gbm = lgb.train(params,\n",
    "                lgb_train2,\n",
    "                num_boost_round=800,\n",
    "#                early_stopping_rounds=5,\n",
    "                valid_sets=lgb_test2,\n",
    "                verbose_eval=False)\n"
   ]
  },
  {
   "cell_type": "code",
   "execution_count": null,
   "metadata": {
    "collapsed": true
   },
   "outputs": [],
   "source": [
    "commit_df = pd.date_range('2016/9/1', periods=30, freq='D')\n",
    "commit_df = pd.DataFrame(commit_df)\n",
    "commit_df.columns = ['predict_date']\n",
    "y_predict = gbm.predict(test_lgb.values)\n",
    "commit_df['predict_power_consumption'] = pd.DataFrame(y_predict).astype('int')\n",
    "commit_df"
   ]
  },
  {
   "cell_type": "code",
   "execution_count": null,
   "metadata": {
    "collapsed": true
   },
   "outputs": [],
   "source": [
    "commit_df['predict_date'] = commit_df['predict_date'].astype(str).apply(lambda x: x.replace(\"-\",\"\"))\n",
    "commit_df.to_csv('Tianchi_power_predict_table_20170519_v4.csv',index=False)"
   ]
  }
 ],
 "metadata": {
  "kernelspec": {
   "display_name": "Python [py27]",
   "language": "python",
   "name": "Python [py27]"
  },
  "language_info": {
   "codemirror_mode": {
    "name": "ipython",
    "version": 2
   },
   "file_extension": ".py",
   "mimetype": "text/x-python",
   "name": "python",
   "nbconvert_exporter": "python",
   "pygments_lexer": "ipython2",
   "version": "2.7.13"
  }
 },
 "nbformat": 4,
 "nbformat_minor": 0
}
